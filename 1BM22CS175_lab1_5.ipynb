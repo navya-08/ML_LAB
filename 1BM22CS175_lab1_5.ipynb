{
  "nbformat": 4,
  "nbformat_minor": 0,
  "metadata": {
    "colab": {
      "provenance": [],
      "include_colab_link": true
    },
    "kernelspec": {
      "name": "python3",
      "display_name": "Python 3"
    },
    "language_info": {
      "name": "python"
    }
  },
  "cells": [
    {
      "cell_type": "markdown",
      "metadata": {
        "id": "view-in-github",
        "colab_type": "text"
      },
      "source": [
        "<a href=\"https://colab.research.google.com/github/navya-08/ML_LAB/blob/main/1BM22CS175_lab1_5.ipynb\" target=\"_parent\"><img src=\"https://colab.research.google.com/assets/colab-badge.svg\" alt=\"Open In Colab\"/></a>"
      ]
    },
    {
      "cell_type": "code",
      "source": [
        "import numpy as np\n",
        "import pandas as pd\n",
        "from graphviz import Digraph\n",
        "\n",
        "# 1. Helper function to calculate entropy\n",
        "def entropy(dataset):\n",
        "    class_counts = dataset.iloc[:, -1].value_counts()\n",
        "    prob = class_counts / len(dataset)\n",
        "    return -np.sum(prob * np.log2(prob))\n",
        "\n",
        "# 2. Function to calculate information gain\n",
        "def information_gain(dataset, feature):\n",
        "    total_entropy = entropy(dataset)\n",
        "    feature_values = dataset[feature].value_counts()\n",
        "    weighted_entropy = 0\n",
        "    for value, count in feature_values.items():\n",
        "        subset = dataset[dataset[feature] == value]\n",
        "        weighted_entropy += (count / len(dataset)) * entropy(subset)\n",
        "    return total_entropy - weighted_entropy\n",
        "\n",
        "# 3. Function to get the best feature to split on\n",
        "def best_feature(dataset):\n",
        "    features = dataset.columns[:-1]\n",
        "    best_info_gain = -1\n",
        "    best_feature = None\n",
        "    for feature in features:\n",
        "        info_gain = information_gain(dataset, feature)\n",
        "        if info_gain > best_info_gain:\n",
        "            best_info_gain = info_gain\n",
        "            best_feature = feature\n",
        "    return best_feature\n",
        "\n",
        "# 4. Recursive function to build the decision tree (ID3 with simple pruning)\n",
        "def id3(dataset, max_depth=None, depth=0):\n",
        "    if len(dataset.iloc[:, -1].unique()) == 1:\n",
        "        return dataset.iloc[0, -1]\n",
        "    if len(dataset.columns) == 1:\n",
        "        return dataset.iloc[:, -1].mode()[0]\n",
        "    if max_depth is not None and depth >= max_depth:\n",
        "        return dataset.iloc[:, -1].mode()[0]\n",
        "    best = best_feature(dataset)\n",
        "    tree = {best: {}}\n",
        "    for value in dataset[best].unique():\n",
        "        subset = dataset[dataset[best] == value]\n",
        "        tree[best][value] = id3(subset.drop(columns=[best]), max_depth=max_depth, depth=depth+1)\n",
        "    return tree\n",
        "\n",
        "# 5. Function to create a graphical decision tree\n",
        "def create_tree_diagram(tree, dot=None, parent_name=\"Root\", parent_value=\"\"):\n",
        "    if dot is None:\n",
        "        dot = Digraph(format=\"png\", engine=\"dot\")\n",
        "\n",
        "    # Recursively add nodes to the graph\n",
        "    if isinstance(tree, dict):\n",
        "        for feature, branches in tree.items():\n",
        "            feature_name = f\"{parent_name}_{feature}\"\n",
        "            dot.node(feature_name, feature)\n",
        "            dot.edge(parent_name, feature_name, label=parent_value)\n",
        "\n",
        "            for value, subtree in branches.items():\n",
        "                value_name = f\"{feature_name}_{value}\"\n",
        "                dot.node(value_name, f\"{feature}: {value}\")\n",
        "                dot.edge(feature_name, value_name, label=str(value))\n",
        "\n",
        "                # Recurse for each subtree\n",
        "                create_tree_diagram(subtree, dot, value_name, str(value))\n",
        "    else:\n",
        "        dot.node(parent_name + \"_class\", f\"Class: {tree}\")\n",
        "        dot.edge(parent_name, parent_name + \"_class\", label=\"Leaf\")\n",
        "\n",
        "    return dot\n",
        "\n",
        "# 6. Example Dataset\n",
        "data = {\n",
        "    'Outlook': ['Sunny', 'Sunny', 'Overcast', 'Rainy', 'Rainy', 'Rainy', 'Overcast', 'Sunny', 'Sunny', 'Rainy', 'Sunny', 'Overcast', 'Overcast', 'Rainy'],\n",
        "    'Temperature': ['Hot', 'Hot', 'Hot', 'Mild', 'Cool', 'Cool', 'Cool','Mild', 'Cool','Mild', 'Mild', 'Mild', 'Hot', 'Mild'],\n",
        "    'Humidity': ['High', 'High', 'High', 'High', 'Normal', 'Normal', 'Normal', 'High', 'Normal', 'Normal', 'Normal', 'High', 'Normal', 'High'],\n",
        "    'Windy': ['Weak', 'Strong', 'Weak', 'Weak', 'Weak', 'Strong', 'Strong', 'Weak', 'Weak', 'Weak', 'Strong', 'Strong', 'Weak', 'Strong'],\n",
        "    'PlayTennis': ['No', 'No', 'Yes', 'Yes', 'Yes', 'No', 'Yes', 'No', 'Yes', 'Yes', 'Yes', 'Yes', 'Yes', 'No']\n",
        "}\n",
        "\n",
        "# 7. Create the dataset\n",
        "df = pd.DataFrame(data)\n",
        "\n",
        "# 8. Build the decision tree using ID3\n",
        "tree = id3(df, max_depth=3)\n",
        "\n",
        "# 9. Create the decision tree diagram\n",
        "dot = create_tree_diagram(tree)\n",
        "\n",
        "# 10. Render and display the tree diagram\n",
        "dot.render(\"decision_tree\", view=True)  # This will generate a PNG file and open it in the default viewer\n"
      ],
      "metadata": {
        "colab": {
          "base_uri": "https://localhost:8080/",
          "height": 35
        },
        "id": "Vf3i6SIhGHaB",
        "outputId": "92c627cc-4a02-43a7-d1c5-54d9542c2d09"
      },
      "execution_count": null,
      "outputs": [
        {
          "output_type": "execute_result",
          "data": {
            "text/plain": [
              "'decision_tree.png'"
            ],
            "application/vnd.google.colaboratory.intrinsic+json": {
              "type": "string"
            }
          },
          "metadata": {},
          "execution_count": 1
        }
      ]
    }
  ]
}